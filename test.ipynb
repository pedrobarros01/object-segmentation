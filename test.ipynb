{
 "cells": [
  {
   "cell_type": "code",
   "execution_count": null,
   "metadata": {},
   "outputs": [],
   "source": [
    "import os\n",
    "import tensorflow as tf\n",
    "import numpy as np\n",
    "from tensorflow.keras.utils import to_categorical\n",
    "from tensorflow.keras.preprocessing.image import load_img, img_to_array\n",
    "import matplotlib.pyplot as plt\n",
    "# Carregar o modelo salvo\n",
    "model = tf.keras.models.load_model('unet_model.h5')\n",
    "# Caminhos para imagens e máscaras\n",
    "IMAGE_DIR = 'database/VOC2012_train_val/VOC2012_train_val/JPEGImages/'\n",
    "MASK_DIR = 'database/VOC2012_train_val/VOC2012_train_val/SegmentationClass/'\n",
    "\n",
    "IMG_SIZE = (128, 128)  # Redimensionamento das imagens\n",
    "NUM_CLASSES = 21  # Pascal VOC tem 21 classes (20 + 1 fundo)\n",
    "def predict_image(image_path):\n",
    "    \"\"\"Carrega uma imagem e faz uma previsão da máscara.\"\"\"\n",
    "    # Carregar e pré-processar a imagem\n",
    "    img = load_img(image_path, target_size=IMG_SIZE)\n",
    "    img_array = img_to_array(img) / 255.0  # Normalizar entre [0, 1]\n",
    "    img_array = np.expand_dims(img_array, axis=0)  # Adicionar batch dimension\n",
    "\n",
    "    # Fazer a previsão\n",
    "    prediction = model.predict(img_array)[0]  # Pega o primeiro item da previsão\n",
    "\n",
    "    # Converter a previsão para rótulos de classe (classificação pixel a pixel)\n",
    "    predicted_mask = np.argmax(prediction, axis=-1)  # Pegar a classe com maior valor\n",
    "    predicted_mask = predicted_mask.astype(np.uint8)\n",
    "\n",
    "    return predicted_mask\n",
    "\n",
    "def visualize_prediction(image_path, predicted_mask):\n",
    "    \"\"\"Visualiza a imagem original e a máscara prevista lado a lado.\"\"\"\n",
    "    img = load_img(image_path, target_size=IMG_SIZE)\n",
    "    plt.figure(figsize=(10, 5))\n",
    "\n",
    "    # Imagem original\n",
    "    plt.subplot(1, 2, 1)\n",
    "    plt.imshow(img)\n",
    "    plt.axis('off')\n",
    "    plt.title(\"Imagem Original\")\n",
    "\n",
    "    # Máscara prevista\n",
    "    plt.subplot(1, 2, 2)\n",
    "    plt.imshow(predicted_mask, cmap='jet')  # Usar colormap para visualização\n",
    "    plt.axis('off')\n",
    "    plt.title(\"Máscara Prevista\")\n",
    "\n",
    "    plt.show()\n",
    "\n",
    "# Exemplo de uso\n",
    "image_path = os.path.join(IMAGE_DIR, '2007_000061.jpg')  # Substituir pelo nome da imagem desejada\n",
    "predicted_mask = predict_image(image_path)\n",
    "visualize_prediction(image_path, predicted_mask)\n"
   ]
  }
 ],
 "metadata": {
  "kernelspec": {
   "display_name": ".venv",
   "language": "python",
   "name": "python3"
  },
  "language_info": {
   "name": "python",
   "version": "3.9.13"
  }
 },
 "nbformat": 4,
 "nbformat_minor": 2
}
